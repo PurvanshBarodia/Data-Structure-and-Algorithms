{
  "nbformat": 4,
  "nbformat_minor": 0,
  "metadata": {
    "colab": {
      "name": "Lab-4(Stack and Queue).ipynb",
      "provenance": [],
      "collapsed_sections": [],
      "authorship_tag": "ABX9TyNwsK9i2DhSiDoSmVSPCrDD",
      "include_colab_link": true
    },
    "kernelspec": {
      "name": "python3",
      "display_name": "Python 3"
    },
    "language_info": {
      "name": "python"
    }
  },
  "cells": [
    {
      "cell_type": "markdown",
      "metadata": {
        "id": "view-in-github",
        "colab_type": "text"
      },
      "source": [
        "<a href=\"https://colab.research.google.com/github/PurvanshBarodia/Data-Structure-and-Algorithms/blob/master/Lab_4(Stack_and_Queue).ipynb\" target=\"_parent\"><img src=\"https://colab.research.google.com/assets/colab-badge.svg\" alt=\"Open In Colab\"/></a>"
      ]
    },
    {
      "cell_type": "code",
      "metadata": {
        "id": "I9W6AFcN6ny5"
      },
      "source": [
        "# Stack using Linked list\n",
        "class Stack():\n",
        "  def __init__(self):\n",
        "    self.top = None\n",
        "    self.size = 0\n",
        "\n",
        "  def isEmpty(self):\n",
        "    return self.size == 0\n",
        "\n",
        "  def length(self):\n",
        "    return self.size\n",
        "\n",
        "  def push(self,data):\n",
        "    new_node = Linkedlist(data,self.top)\n",
        "    self.top = new_node\n",
        "    self.size +=1\n",
        "\n",
        "  def pop(self):\n",
        "    assert not self.isEmpty(), \"Can't pop from Empty Stack\"\n",
        "    item = self.top.data\n",
        "    self.top = self.top.next\n",
        "    self.size-=1\n",
        "    return item\n",
        "\n",
        "  def peek(self):\n",
        "    assert not self.isEmpty(), \"Can't peek into Empty Stack\"\n",
        "    return self.top.data\n",
        "\n",
        "\n",
        "class Linkedlist():\n",
        "  def __init__(self,data,link):\n",
        "    self.data = data\n",
        "    self.next = link\n",
        "\n"
      ],
      "execution_count": null,
      "outputs": []
    },
    {
      "cell_type": "code",
      "metadata": {
        "colab": {
          "base_uri": "https://localhost:8080/"
        },
        "id": "f5dSk8lIA1QQ",
        "outputId": "b850cfb0-d511-4c65-af69-6cb003c5881a"
      },
      "source": [
        "myS = Stack()\n",
        "\n",
        "myS.push(97)\n",
        "myS.push(24)\n",
        "myS.push(13)\n",
        "print(myS.pop())\n",
        "print(myS.peek())"
      ],
      "execution_count": null,
      "outputs": [
        {
          "output_type": "stream",
          "name": "stdout",
          "text": [
            "13\n",
            "24\n"
          ]
        }
      ]
    },
    {
      "cell_type": "code",
      "metadata": {
        "id": "JUIh3TA4HCO3"
      },
      "source": [
        "# Question -2\n",
        "def postfix():\n",
        "  s = input(\"Enter Post fix opration\").split()\n",
        "  myS =Stack()\n",
        "  lis = ['+','-','*','/']\n",
        "  for i in range (len(s)):\n",
        "    if s[i] in lis:\n",
        "      B = myS.pop()\n",
        "      A = myS.pop()\n",
        "      if s[i] =='+':\n",
        "        C = int(A) + int(B)\n",
        "        myS.push(C)\n",
        "      elif s[i] =='-':\n",
        "        C = int(A) - int(B)\n",
        "        myS.push(C)\n",
        "      elif s[i] =='*':\n",
        "        C = int(A) * int(B)\n",
        "        myS.push(C)\n",
        "      elif s[i] =='/':\n",
        "        C = int(A) / int(B)\n",
        "        myS.push(C)\n",
        "\n",
        "    else:\n",
        "      myS.push(s[i])\n",
        "\n",
        "  return (\"Answer of Postfix Operation\",myS.peek())\n",
        "\n",
        "      \n",
        "\n",
        "\n"
      ],
      "execution_count": null,
      "outputs": []
    },
    {
      "cell_type": "code",
      "metadata": {
        "colab": {
          "base_uri": "https://localhost:8080/"
        },
        "id": "10vUeJkpi3pj",
        "outputId": "ddb5cbed-20ec-4c9b-f177-056475da64ac"
      },
      "source": [
        "postfix()"
      ],
      "execution_count": null,
      "outputs": [
        {
          "name": "stdout",
          "output_type": "stream",
          "text": [
            "Enter Post fix opration8 2 +\n"
          ]
        },
        {
          "output_type": "execute_result",
          "data": {
            "text/plain": [
              "('Answer of Postfix Operation', 10)"
            ]
          },
          "metadata": {},
          "execution_count": 6
        }
      ]
    },
    {
      "cell_type": "code",
      "metadata": {
        "colab": {
          "base_uri": "https://localhost:8080/"
        },
        "id": "DKVFjPQyKOMi",
        "outputId": "5e5bccce-c92d-4b92-df97-2406d7eeabcf"
      },
      "source": [
        "print(myS.peek())"
      ],
      "execution_count": null,
      "outputs": [
        {
          "output_type": "stream",
          "name": "stdout",
          "text": [
            "24\n"
          ]
        }
      ]
    },
    {
      "cell_type": "code",
      "metadata": {
        "id": "iijmGoz1Kh6u"
      },
      "source": [
        "# Question - 3\n",
        "#Balanced parenthesis ( ), brackets [ ], braces { }       # int values (int arr[])]\n",
        "def Bal_par(stri):\n",
        "  new_s = Stack()\n",
        "  olis = ['(','[','{']\n",
        "  clis = [')',']','}']\n",
        "  s = stri\n",
        "  #s = input(\"Enter the expression: \")\n",
        "  for i in range(len(s)):\n",
        "    if s[i] in olis:\n",
        "      new_s.push(s[i])\n",
        "    elif s[i] in clis:\n",
        "      if new_s.isEmpty():\n",
        "        return (\"It is not a Balanced Equation.\")\n",
        "\n",
        "      l = clis.index(s[i])\n",
        "      if olis[l] == new_s.peek():\n",
        "        new_s.pop()\n",
        "  if new_s.isEmpty(): \n",
        "    return (\"It is a Balanced Equation\")\n",
        "\n",
        "  else:\n",
        "    return (\"It is not a Balanced Equation\")\n",
        "\n",
        "\n",
        "\n",
        "  \n"
      ],
      "execution_count": null,
      "outputs": []
    },
    {
      "cell_type": "code",
      "metadata": {
        "colab": {
          "base_uri": "https://localhost:8080/",
          "height": 35
        },
        "id": "wCSLHXZVnO6L",
        "outputId": "5e541039-7bb9-48d6-e78c-c0b862ca13fc"
      },
      "source": [
        "n = \"[int values (int arr[])]\"\n",
        "Bal_par(n)"
      ],
      "execution_count": null,
      "outputs": [
        {
          "output_type": "execute_result",
          "data": {
            "application/vnd.google.colaboratory.intrinsic+json": {
              "type": "string"
            },
            "text/plain": [
              "'It is a Balanced Equation'"
            ]
          },
          "metadata": {},
          "execution_count": 7
        }
      ]
    },
    {
      "cell_type": "code",
      "metadata": {
        "id": "eDZgLvuwWjB0"
      },
      "source": [
        "# Queue Implementation using sigly linke list\n",
        "class Queue():\n",
        "  def __init__(self):\n",
        "    self.top = None\n",
        "    self.tail = None\n",
        "    self.size = 0\n",
        "\n",
        "  def isEmpty(self):\n",
        "    return self.size == 0\n",
        "\n",
        "  def length(self):\n",
        "    return self.size\n",
        "\n",
        "  def enqueue(self,data):\n",
        "    new_node = Linkedlist(data)\n",
        "    if self.isEmpty():\n",
        "      self.top = new_node\n",
        "    else:\n",
        "      self.tail.next = new_node\n",
        "    self.tail = new_node\n",
        "    self.size+=1\n",
        "\n",
        "  def dequeue(self):\n",
        "    assert not self.isEmpty(),\"Can't dequeue form empty queue\"\n",
        "    item = self.top.data\n",
        "    if self.top == self.tail:\n",
        "      self.top = None\n",
        "      self.tail = None\n",
        "    else:\n",
        "      self.top = self.top.next\n",
        "    self.size-=1\n",
        "    return item\n",
        "    \n",
        "    #item = self.top.data\n",
        "    #top = self.top.next\n",
        "    #return (item)\n",
        "\n",
        "  def prnqueue(self):\n",
        "    temp = self.top\n",
        "    while (temp!=None):\n",
        "      print(temp.data)\n",
        "      temp = temp.next\n",
        "    \n",
        "\n",
        "class Linkedlist():\n",
        "  def __init__(self,data):\n",
        "    self.data = data\n",
        "    self.next = None\n",
        "\n",
        "\n",
        "  "
      ],
      "execution_count": null,
      "outputs": []
    },
    {
      "cell_type": "code",
      "metadata": {
        "id": "-NXjxWlPcAi2"
      },
      "source": [
        "q = Queue()\n",
        "q.enqueue(15)\n",
        "q.enqueue(18)\n",
        "q.enqueue(25)"
      ],
      "execution_count": null,
      "outputs": []
    },
    {
      "cell_type": "code",
      "metadata": {
        "colab": {
          "base_uri": "https://localhost:8080/"
        },
        "id": "rfrTT7pEEUwu",
        "outputId": "e1b9e47a-ccfd-41ab-ecd7-20b6c7e713b6"
      },
      "source": [
        "print(q.dequeue())"
      ],
      "execution_count": null,
      "outputs": [
        {
          "output_type": "stream",
          "name": "stdout",
          "text": [
            "15\n"
          ]
        }
      ]
    },
    {
      "cell_type": "code",
      "metadata": {
        "colab": {
          "base_uri": "https://localhost:8080/"
        },
        "id": "-2huAT6SEZyt",
        "outputId": "37b43792-0d37-4f81-b22a-f4d199f32300"
      },
      "source": [
        "q.prnqueue()"
      ],
      "execution_count": null,
      "outputs": [
        {
          "output_type": "stream",
          "name": "stdout",
          "text": [
            "18\n",
            "25\n"
          ]
        }
      ]
    },
    {
      "cell_type": "code",
      "metadata": {
        "id": "KxReikafdBn8"
      },
      "source": [
        "# Priority Queue\n",
        "class priorityq():\n",
        "  def __init__(self):\n",
        "    self.head = None\n",
        "    self.tail = None\n",
        "    self.size = 0\n",
        "\n",
        "  def isEmpty(self):\n",
        "    return self.head == None\n",
        "\n",
        "  def length(self):\n",
        "    return self.size\n",
        "\n",
        "  def enqueue(self,data,priority):\n",
        "    new_node = Linkedlist(data,priority)\n",
        "    if self.size ==0:\n",
        "      self.head = new_node\n",
        "\n",
        "    else:\n",
        "      self.tail.next = new_node\n",
        "\n",
        "    self.tail = new_node\n",
        "    self.size+=1\n",
        "\n",
        "  def dequeue(self):\n",
        "    assert not self.isEmpty(), \"Can't dequeue form empty queue\"\n",
        "    if self.size ==1:\n",
        "      self.head = None\n",
        "      self.tail = None\n",
        "      self.size = 0\n",
        "\n",
        "    else:\n",
        "      high_node = self.head\n",
        "      high_priority = high_node.priority\n",
        "\n",
        "      temp = self.head\n",
        "      while (temp!=None):\n",
        "        if (temp.priority<high_priority):\n",
        "          high_priority = temp.priority\n",
        "          high_node = temp\n",
        "\n",
        "        prev = temp\n",
        "        temp = temp.next\n",
        "        \n",
        "      item = high_node.data\n",
        "      prev.next = high_node.next\n",
        "      self.size-= 1\n",
        "      return item\n",
        "\n",
        "  def prnqueue(self):\n",
        "    temp = self.head\n",
        "    while (temp!=None):\n",
        "      print(temp.priority, temp.data)\n",
        "      temp = temp.next\n",
        "\n",
        "\n",
        "\n",
        "class Linkedlist():\n",
        "  def __init__(self,data,priority):\n",
        "    self.data = data\n",
        "    self.next = None\n",
        "    self.priority= priority"
      ],
      "execution_count": null,
      "outputs": []
    },
    {
      "cell_type": "code",
      "metadata": {
        "colab": {
          "base_uri": "https://localhost:8080/"
        },
        "id": "8LFj4gTjpNIv",
        "outputId": "c0dee809-abbf-4afd-a932-0976c7270331"
      },
      "source": [
        "mypql = priorityq()\n",
        "mypql.enqueue( \"purple\", 5 )\n",
        "mypql.enqueue( \"black\", 1 )\n",
        "mypql.enqueue( \"orange\", 3 )\n",
        "mypql.enqueue( \"white\", 0 )\n",
        "mypql.enqueue( \"green\", 1 )\n",
        "mypql.enqueue( \"yellow\", 5 )\n",
        "mypql.prnqueue()"
      ],
      "execution_count": null,
      "outputs": [
        {
          "output_type": "stream",
          "name": "stdout",
          "text": [
            "5 purple\n",
            "1 black\n",
            "3 orange\n",
            "0 white\n",
            "1 green\n",
            "5 yellow\n"
          ]
        }
      ]
    },
    {
      "cell_type": "code",
      "metadata": {
        "id": "N-_BS7okqyHl",
        "colab": {
          "base_uri": "https://localhost:8080/",
          "height": 35
        },
        "outputId": "a624564c-a163-4d7d-a169-0f576fa8ada7"
      },
      "source": [
        "mypql.dequeue()"
      ],
      "execution_count": null,
      "outputs": [
        {
          "output_type": "execute_result",
          "data": {
            "application/vnd.google.colaboratory.intrinsic+json": {
              "type": "string"
            },
            "text/plain": [
              "'white'"
            ]
          },
          "metadata": {},
          "execution_count": 41
        }
      ]
    },
    {
      "cell_type": "code",
      "metadata": {
        "id": "Yf30e_JtfeNK"
      },
      "source": [
        "# Priority Queue\n",
        "class priorityQ():\n",
        "  def __init__(self):\n",
        "    self.head = None\n",
        "    self.tail = None\n",
        "    self.size =0\n",
        "\n",
        "  def isEmpty(self):\n",
        "    return self.size==0\n",
        "  \n",
        "  def lenght(self):\n",
        "    return self.size\n",
        "\n",
        "  def enqueue(self,data,priority):\n",
        "    new_node = Linklist(data,priority)\n",
        "    if self.size == 0:\n",
        "      self.head = new_node\n",
        "    else:\n",
        "      self.tail.next = new_node\n",
        "    self.tail= new_node\n",
        "    self.size+=1\n",
        "\n",
        "  def dequeue(self):\n",
        "    assert not self.isEmpty(),\"Can't dequeue from empty queue\"\n",
        "    if self.size == 1:\n",
        "      item = self.head.data\n",
        "      self.head = None\n",
        "      self.tail = None\n",
        "      self.size = 0\n",
        "      return item\n",
        "\n",
        "    else:\n",
        "      high_node = self.head\n",
        "      high_priority = high_node.priority\n",
        "\n",
        "      temp = self.head\n",
        "      prevm = self.head\n",
        "      while(temp!=None):\n",
        "        if (temp.priority<high_priority):\n",
        "          high_node = temp\n",
        "          high_priority = temp.priority\n",
        "          prevm = prev\n",
        "        prev = temp\n",
        "        temp = temp.next\n",
        "      prevm.next = high_node.next\n",
        "      self.size-=1\n",
        "      if (high_node == self.head):\n",
        "        self.head = prev.next\n",
        "      if (high_node== self.tail):\n",
        "        self.tail = prev\n",
        "      return high_node.data\n",
        "\n",
        "  def prnqueue(self):\n",
        "    temp = self.head\n",
        "    while(temp!=None):\n",
        "      print(temp.data,temp.priority)\n",
        "      temp = temp.next\n",
        "\n",
        "    \n",
        "\n",
        "    \n",
        "\n",
        "class Linklist():\n",
        "  def __init__(self,data,priority):\n",
        "    self.data = data\n",
        "    self.priority = priority\n",
        "    self.next = None"
      ],
      "execution_count": null,
      "outputs": []
    },
    {
      "cell_type": "code",
      "metadata": {
        "id": "ttZICUD4kmSs"
      },
      "source": [
        "q = priorityQ()"
      ],
      "execution_count": null,
      "outputs": []
    },
    {
      "cell_type": "code",
      "metadata": {
        "id": "u0MCRePAkumg"
      },
      "source": [
        "q.enqueue(15,5)"
      ],
      "execution_count": null,
      "outputs": []
    },
    {
      "cell_type": "code",
      "metadata": {
        "id": "i6bgBQLZlhQK"
      },
      "source": [
        "q.enqueue(16,0)"
      ],
      "execution_count": null,
      "outputs": []
    },
    {
      "cell_type": "code",
      "metadata": {
        "colab": {
          "base_uri": "https://localhost:8080/"
        },
        "id": "0-d0IU8ilnmn",
        "outputId": "32e82a06-f8cc-42c5-e03f-1695aa49ecd7"
      },
      "source": [
        "q.prnqueue()"
      ],
      "execution_count": null,
      "outputs": [
        {
          "output_type": "stream",
          "name": "stdout",
          "text": [
            "15 5\n",
            "16 0\n"
          ]
        }
      ]
    },
    {
      "cell_type": "code",
      "metadata": {
        "colab": {
          "base_uri": "https://localhost:8080/"
        },
        "id": "AszY5deAlsLG",
        "outputId": "071efd7c-1117-470b-8192-50e634edf829"
      },
      "source": [
        "q.dequeue()"
      ],
      "execution_count": null,
      "outputs": [
        {
          "output_type": "execute_result",
          "data": {
            "text/plain": [
              "16"
            ]
          },
          "metadata": {},
          "execution_count": 6
        }
      ]
    },
    {
      "cell_type": "code",
      "metadata": {
        "id": "-X1DNJ-_mD7j",
        "colab": {
          "base_uri": "https://localhost:8080/"
        },
        "outputId": "dac7bcb2-bec5-4601-cea3-acba6446a588"
      },
      "source": [
        "q.prnqueue()"
      ],
      "execution_count": null,
      "outputs": [
        {
          "output_type": "stream",
          "name": "stdout",
          "text": [
            "15 5\n"
          ]
        }
      ]
    },
    {
      "cell_type": "code",
      "metadata": {
        "id": "wzlOfGEQrrhC"
      },
      "source": [
        "# deque -  you can insert and remove from both ends.\n",
        "class deque():\n",
        "  def __init__(self):\n",
        "    self.size =0\n",
        "    self.top = None\n",
        "    self.tail = None\n",
        "\n",
        "  def isEmpty(self):\n",
        "    return self.size == 0\n",
        "\n",
        "  def length(self):\n",
        "    return self.size\n",
        "\n",
        "  def instbeg(self,data):\n",
        "    new_node = Linkdlist1(data,self.top)\n",
        "    if self.size ==0:\n",
        "      self.tail = new_node\n",
        "\n",
        "    self.top = new_node\n",
        "    self.size += 1\n",
        "\n",
        "  def instend(self,data):\n",
        "    new_node = Linkdlist2(data)\n",
        "    if self.size ==0:\n",
        "      self.top = new_node\n",
        "      \n",
        "    self.tail.next = new_node\n",
        "    self.tail = new_node\n",
        "    self.size +=1\n",
        "\n",
        "  def rbeg(self):\n",
        "    assert not self.isEmpty(), \"Can't remove element from empty queue\"\n",
        "    if self.size ==1:\n",
        "      self.top = None\n",
        "      self.tail = None\n",
        "      self.size = 0\n",
        "\n",
        "    else:\n",
        "      item = self.top.data\n",
        "      self.top = self.top.next\n",
        "    self.size -= 1\n",
        "    return (item)\n",
        "\n",
        "  def rend(self):\n",
        "    assert not self.isEmpty(),\"Can't dequeue form empty queue\"\n",
        "    temp = self.top\n",
        "\n",
        "    while (temp.next.next!=None):\n",
        "      temp = temp.next\n",
        "    prev = temp\n",
        "    item = self.tail.data\n",
        "    prev.next = None\n",
        "    self.tail = prev\n",
        "    self.size -= 1\n",
        "    return item\n",
        "  \n",
        "  def prnqueue(self):\n",
        "    temp = self.top\n",
        "    while (temp!=None):\n",
        "      print(temp.data)\n",
        "      temp = temp.next\n",
        "\n",
        "    \n",
        "\n",
        "\n",
        "class Linkdlist1():\n",
        "  def __init__(self,data,link):\n",
        "    self.data = data\n",
        "    self.next = link\n",
        "\n",
        "class Linkdlist2():\n",
        "  def __init__(self,data):\n",
        "    self.data = data\n",
        "    self.next = None"
      ],
      "execution_count": null,
      "outputs": []
    },
    {
      "cell_type": "code",
      "metadata": {
        "colab": {
          "base_uri": "https://localhost:8080/"
        },
        "id": "n7zIeYP0Gwq5",
        "outputId": "58236b0a-bbc6-4b6c-b1ae-9860fad73b68"
      },
      "source": [
        "dq = deque()\n",
        "dq.instbeg(15)\n",
        "dq.instend(16)\n",
        "dq.instbeg(14)\n",
        "dq.instend(17)\n",
        "dq.prnqueue()"
      ],
      "execution_count": null,
      "outputs": [
        {
          "output_type": "stream",
          "name": "stdout",
          "text": [
            "14\n",
            "15\n",
            "16\n",
            "17\n"
          ]
        }
      ]
    },
    {
      "cell_type": "code",
      "metadata": {
        "colab": {
          "base_uri": "https://localhost:8080/"
        },
        "id": "15PpbMFzHNxx",
        "outputId": "0b2ec2c2-d2af-4d37-ef8a-be38abbc3f6a"
      },
      "source": [
        "dq.rbeg()\n",
        "dq.rend()"
      ],
      "execution_count": null,
      "outputs": [
        {
          "output_type": "execute_result",
          "data": {
            "text/plain": [
              "17"
            ]
          },
          "metadata": {},
          "execution_count": 22
        }
      ]
    },
    {
      "cell_type": "code",
      "metadata": {
        "colab": {
          "base_uri": "https://localhost:8080/"
        },
        "id": "Qo7qdGPGJKn4",
        "outputId": "d1b98218-a51e-4a8c-ec67-422057d074af"
      },
      "source": [
        "dq.prnqueue()"
      ],
      "execution_count": null,
      "outputs": [
        {
          "output_type": "stream",
          "name": "stdout",
          "text": [
            "15\n",
            "16\n"
          ]
        }
      ]
    },
    {
      "cell_type": "code",
      "metadata": {
        "id": "WpcDtTtJJWVy"
      },
      "source": [
        "# Queue using 2 stacks\n",
        "# Let's creat Stack using linked list\n",
        "class Stack():\n",
        "  def __init__(self):\n",
        "    self.top = None\n",
        "    self.size = 0\n",
        "\n",
        "  def isEmpty(self):\n",
        "    return self.size==0\n",
        "\n",
        "  def push(self,data):\n",
        "    new_node = Linked_list(data,self.top)\n",
        "    self.top = new_node\n",
        "    self.size+=1\n",
        "\n",
        "  def pop(self):\n",
        "    assert not self.isEmpty(),\"Can't remove from empty stack\"\n",
        "    item = self.top.data\n",
        "    self.top = self.top.next\n",
        "    self.size-=1\n",
        "    return item\n",
        "\n",
        "  def prnstack(self):\n",
        "    temp = self.top\n",
        "    while(temp!= None):\n",
        "      print(temp.data)\n",
        "      temp = temp.next\n",
        "\n",
        "class Linked_list():\n",
        "  def __init__(self,data,link):\n",
        "    self.data = data\n",
        "    self.next = link"
      ],
      "execution_count": null,
      "outputs": []
    },
    {
      "cell_type": "code",
      "metadata": {
        "colab": {
          "base_uri": "https://localhost:8080/"
        },
        "id": "Sb9izaJ54EpD",
        "outputId": "08bfc92d-517c-4a9c-a99f-00d8d1831cb5"
      },
      "source": [
        "# Let's check it is working fine as stack properties like LIFO\n",
        "s = Stack()\n",
        "s.push(23)\n",
        "s.push(32)\n",
        "s.push(45)\n",
        "s.pop()"
      ],
      "execution_count": null,
      "outputs": [
        {
          "output_type": "execute_result",
          "data": {
            "text/plain": [
              "45"
            ]
          },
          "metadata": {},
          "execution_count": 6
        }
      ]
    },
    {
      "cell_type": "code",
      "metadata": {
        "colab": {
          "base_uri": "https://localhost:8080/"
        },
        "id": "hJTvkv9C4MCt",
        "outputId": "f6b83eb2-c7ba-4acb-b896-9cf0bdfc39b1"
      },
      "source": [
        "s.prnstack()"
      ],
      "execution_count": null,
      "outputs": [
        {
          "output_type": "stream",
          "name": "stdout",
          "text": [
            "32\n",
            "23\n"
          ]
        }
      ]
    },
    {
      "cell_type": "code",
      "metadata": {
        "id": "P4xyumMH4vHC"
      },
      "source": [
        "# Queue using Stack with making dequeue operation simple\n",
        "class Queue():\n",
        "  def __init__(self):\n",
        "    self.s1 = Stack()\n",
        "    self.s2 = Stack()\n",
        "  def enqueue(self,data):\n",
        "    while (self.s2.isEmpty()!=True):\n",
        "      self.s1.push(self.s2.pop())\n",
        "\n",
        "    self.s1.push(data)\n",
        "\n",
        "    while (self.s1.isEmpty()!=True):\n",
        "      self.s2.push(self.s1.pop())\n",
        "\n",
        "  def dequeue(self):\n",
        "    s = self.s2.pop()\n",
        "    return s"
      ],
      "execution_count": null,
      "outputs": []
    },
    {
      "cell_type": "code",
      "metadata": {
        "colab": {
          "base_uri": "https://localhost:8080/"
        },
        "id": "JF82DlqZ6fM8",
        "outputId": "dcd5219d-2943-4dd0-dcaa-83f5f5884203"
      },
      "source": [
        "# Let's see it is working as FIFO or not\n",
        "Q = Queue()\n",
        "Q.enqueue(12)\n",
        "Q.enqueue(23)\n",
        "Q.enqueue(56)\n",
        "Q.dequeue()"
      ],
      "execution_count": null,
      "outputs": [
        {
          "output_type": "execute_result",
          "data": {
            "text/plain": [
              "12"
            ]
          },
          "metadata": {},
          "execution_count": 21
        }
      ]
    },
    {
      "cell_type": "code",
      "metadata": {
        "id": "KY6Bz50_6yfE"
      },
      "source": [
        "# Let's make othe way around\n",
        "class Queue():\n",
        "  def __init__(self):\n",
        "    self.s1 = Stack()\n",
        "    self.s2 = Stack()\n",
        "  def dequeue(self):\n",
        "    while (self.s1.isEmpty()!=True):\n",
        "      self.s2.push(self.s1.pop())\n",
        "\n",
        "    s = self.s2.pop()\n",
        "\n",
        "    while (self.s2.isEmpty()!=True):\n",
        "      self.s1.push(self.s2.pop())\n",
        "\n",
        "    return s\n",
        "\n",
        "  def enqueue(self,data):\n",
        "     self.s1.push(data)"
      ],
      "execution_count": null,
      "outputs": []
    },
    {
      "cell_type": "code",
      "metadata": {
        "colab": {
          "base_uri": "https://localhost:8080/"
        },
        "id": "A26KAlG--aDX",
        "outputId": "d020dd4d-ade6-4330-cd49-761e8eb0d9ca"
      },
      "source": [
        "# Let's see it is working as FIFO or not\n",
        "Q = Queue()\n",
        "Q.enqueue(12)\n",
        "Q.enqueue(23)\n",
        "Q.enqueue(56)\n",
        "Q.dequeue()"
      ],
      "execution_count": null,
      "outputs": [
        {
          "output_type": "execute_result",
          "data": {
            "text/plain": [
              "12"
            ]
          },
          "metadata": {},
          "execution_count": 30
        }
      ]
    },
    {
      "cell_type": "code",
      "metadata": {
        "id": "OigjEgHF-dhn"
      },
      "source": [
        "class Queue():\n",
        "  def __init__(self):\n",
        "    self.s1 = Stack()\n",
        "    self.s2 = Stack()\n",
        "\n",
        "  def enqueue(self,data):\n",
        "    while(self.s2.isEmpty()!=True):\n",
        "      self.s1.push(self.s2.pop())\n",
        "\n",
        "    self.s1.push(data)\n",
        "\n",
        "  def dequeue(self):\n",
        "    while (self.s1.isEmpty()!=True):\n",
        "      self.s2.push(self.s1.pop())\n",
        "\n",
        "    s =self.s2.pop()\n",
        "    return s"
      ],
      "execution_count": null,
      "outputs": []
    },
    {
      "cell_type": "code",
      "metadata": {
        "id": "RqNimvCdAqH1",
        "colab": {
          "base_uri": "https://localhost:8080/"
        },
        "outputId": "6827783f-167d-43c1-c103-165d9e44d419"
      },
      "source": [
        "Q = Queue()\n",
        "Q.enqueue(12)\n",
        "Q.enqueue(23)\n",
        "Q.enqueue(56)\n",
        "Q.dequeue()"
      ],
      "execution_count": null,
      "outputs": [
        {
          "output_type": "execute_result",
          "data": {
            "text/plain": [
              "12"
            ]
          },
          "metadata": {},
          "execution_count": 32
        }
      ]
    }
  ]
}