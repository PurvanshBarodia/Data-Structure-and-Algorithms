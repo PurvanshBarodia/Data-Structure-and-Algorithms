{
  "nbformat": 4,
  "nbformat_minor": 0,
  "metadata": {
    "colab": {
      "name": "Lab-3(Matrix).ipynb",
      "provenance": [],
      "collapsed_sections": [],
      "authorship_tag": "ABX9TyMZNqF9MNcm+s06kRxjC49M",
      "include_colab_link": true
    },
    "kernelspec": {
      "name": "python3",
      "display_name": "Python 3"
    },
    "language_info": {
      "name": "python"
    }
  },
  "cells": [
    {
      "cell_type": "markdown",
      "metadata": {
        "id": "view-in-github",
        "colab_type": "text"
      },
      "source": [
        "<a href=\"https://colab.research.google.com/github/PurvanshBarodia/Data-Structure-and-Algorithms/blob/master/Lab_3(Matrix).ipynb\" target=\"_parent\"><img src=\"https://colab.research.google.com/assets/colab-badge.svg\" alt=\"Open In Colab\"/></a>"
      ]
    },
    {
      "cell_type": "code",
      "metadata": {
        "id": "RrxBw1jB5b4k"
      },
      "source": [
        "# Metricies\n",
        "# Question - 1\n",
        "class Array2D():\n",
        "  def __init__(self,rows,cols):\n",
        "    self.rows = [0]* rows\n",
        "\n",
        "    for i in range(rows):\n",
        "      self.rows[i] = [0]*cols\n",
        "\n",
        "  def numRows(self):\n",
        "    return len(self.rows)\n",
        "  \n",
        "  def numCols(self):\n",
        "    return len(self.cols)\n",
        "  \n",
        "  def clear(self,value):\n",
        "    for i in range(len(self.rows)):\n",
        "      for j in range(len(self.rows[i])):\n",
        "        self.rows[i][j] = value\n",
        "  \n",
        "  def getitem(self,i1,i2):\n",
        "    return (self.rows[i1][i2])\n",
        "\n",
        "  def setitem(self,s1,s2,value):\n",
        "    self.rows[s1][s2] = value\n",
        "\n",
        "\n",
        "  def prn2D(self):\n",
        "    for i in range(len(self.rows)):\n",
        "      for j in range(len(self.rows[i])):\n",
        "        print(self.rows[i][j],end=\" \")\n",
        "      print()\n",
        "\n",
        "\n",
        "\n",
        "\n",
        "\n",
        "\n"
      ],
      "execution_count": null,
      "outputs": []
    },
    {
      "cell_type": "code",
      "metadata": {
        "colab": {
          "base_uri": "https://localhost:8080/"
        },
        "id": "Hd-NNkiz7eK_",
        "outputId": "d13fe4c1-2861-45c3-8b73-f2c59ce5934d"
      },
      "source": [
        " a = Array2D(5,5)\n",
        " print(a.numRows())\n",
        " a.prn2D()\n",
        " a.getitem(1,2)"
      ],
      "execution_count": null,
      "outputs": [
        {
          "output_type": "stream",
          "name": "stdout",
          "text": [
            "5\n",
            "0 0 0 0 0 \n",
            "0 0 0 0 0 \n",
            "0 0 0 0 0 \n",
            "0 0 0 0 0 \n",
            "0 0 0 0 0 \n"
          ]
        },
        {
          "output_type": "execute_result",
          "data": {
            "text/plain": [
              "0"
            ]
          },
          "metadata": {},
          "execution_count": 24
        }
      ]
    },
    {
      "cell_type": "code",
      "metadata": {
        "id": "xJ_VYKwNBFPV"
      },
      "source": [
        "a.clear(5)"
      ],
      "execution_count": null,
      "outputs": []
    },
    {
      "cell_type": "code",
      "metadata": {
        "id": "ARLH62pqB_R0"
      },
      "source": [
        "a.setitem(0,0,6)"
      ],
      "execution_count": null,
      "outputs": []
    },
    {
      "cell_type": "code",
      "metadata": {
        "colab": {
          "base_uri": "https://localhost:8080/"
        },
        "id": "ng6q0oXFBRmv",
        "outputId": "72d2ef04-5f90-4984-c211-7f62ba76f576"
      },
      "source": [
        "a.prn2D()"
      ],
      "execution_count": null,
      "outputs": [
        {
          "output_type": "stream",
          "name": "stdout",
          "text": [
            "6 5 5 5 5 \n",
            "5 5 5 5 5 \n",
            "5 5 5 5 5 \n",
            "5 5 5 5 5 \n",
            "5 5 5 5 5 \n"
          ]
        }
      ]
    },
    {
      "cell_type": "code",
      "metadata": {
        "id": "xYcVszvh84As"
      },
      "source": [
        "# Sparse Matrix\n",
        "# Question- 2\n",
        "class Array2D():\n",
        "  def __init__(self,rows,cols,matrix):\n",
        "    self.rows = rows\n",
        "    self.cols = cols\n",
        "    self.triplate = []\n",
        "    for i in range(rows):\n",
        "      for j in range(cols):\n",
        "        if matrix[i][j] !=0:\n",
        "          self.triplate.append([i,j,matrix[i][j]])\n",
        "\n",
        "  def numRows(self):\n",
        "    return self.rows\n",
        "  \n",
        "  def numCols(self):\n",
        "    return self.cols\n",
        "\n",
        "  def setitem(self,i1,i2,value):\n",
        "    assert not ((i1+1)>self.rows or (i2+1)>self.cols),\"Invalid index position.\"\n",
        "    assert not (i1<0 or i2<0),\"Index can't be negative.\"\n",
        "    self.triplate.append([i1,i2,value])\n",
        "\n",
        "  def clear(self,value):\n",
        "    for i in range(len(self.triplate)):\n",
        "      self.triplate[i][2] = value\n",
        "\n",
        "  def getitem(self,i1,i2):\n",
        "    assert not ((i1+1)>self.rows or (i2+1)>self.cols),\"Invalid index position.\"\n",
        "    assert not (i1<0 or i2<0),\"Index can't be negative.\"\n",
        "    for i in range(len(self.triplate)):\n",
        "      if ((self.triplate[i][0] == i1) and (self.triplate[i][1]==i2)):\n",
        "        return (self.triplate[i][2])\n",
        "    return 0\n",
        "\n",
        "  def prnSparse(self):\n",
        "    print(\"Row\",\"Col\",\"Value\")\n",
        "    for i in range(len(self.triplate)):\n",
        "      print(\"{}   {}   {}\".format(self.triplate[i][0], self.triplate[i][1],self.triplate[i][2]))\n",
        "\n",
        "  \n",
        "\n",
        "  \n"
      ],
      "execution_count": null,
      "outputs": []
    },
    {
      "cell_type": "code",
      "metadata": {
        "id": "vOI73gjsFR_0"
      },
      "source": [
        "mtr = [[1,0,0],[0,2,0],[0,0,3]]\n",
        "a = Array2D(3,3,mtr)"
      ],
      "execution_count": null,
      "outputs": []
    },
    {
      "cell_type": "code",
      "metadata": {
        "colab": {
          "base_uri": "https://localhost:8080/"
        },
        "id": "MdYfdt-hFsYW",
        "outputId": "91a373bf-18ba-4bb1-8af7-9e3ee80bbc8c"
      },
      "source": [
        "a.prnSparse()"
      ],
      "execution_count": null,
      "outputs": [
        {
          "output_type": "stream",
          "name": "stdout",
          "text": [
            "Row Col Value\n",
            "0   0   1\n",
            "1   1   2\n",
            "2   2   3\n"
          ]
        }
      ]
    },
    {
      "cell_type": "code",
      "metadata": {
        "id": "3PmhjW1zHUzN"
      },
      "source": [
        "a.setitem(0,0,5)\n",
        "a.setitem(1,1,3)"
      ],
      "execution_count": null,
      "outputs": []
    },
    {
      "cell_type": "code",
      "metadata": {
        "colab": {
          "base_uri": "https://localhost:8080/"
        },
        "id": "YufPkPlFOZHx",
        "outputId": "cd6b27f2-e506-428a-f5bb-54acfcac9e80"
      },
      "source": [
        "a.getitem(0,1)"
      ],
      "execution_count": null,
      "outputs": [
        {
          "output_type": "execute_result",
          "data": {
            "text/plain": [
              "0"
            ]
          },
          "metadata": {},
          "execution_count": 32
        }
      ]
    },
    {
      "cell_type": "code",
      "metadata": {
        "colab": {
          "base_uri": "https://localhost:8080/"
        },
        "id": "_fAJ__NcPsfv",
        "outputId": "f0862973-c0e0-40cd-f3f2-db4b9218700e"
      },
      "source": [
        "a.getitem(1,1)"
      ],
      "execution_count": null,
      "outputs": [
        {
          "output_type": "execute_result",
          "data": {
            "text/plain": [
              "2"
            ]
          },
          "metadata": {},
          "execution_count": 33
        }
      ]
    },
    {
      "cell_type": "code",
      "metadata": {
        "colab": {
          "base_uri": "https://localhost:8080/"
        },
        "id": "gzYmxSIcHoTX",
        "outputId": "570e98a6-7bb8-4191-dbbc-035b08797ef4"
      },
      "source": [
        "a.prnSparse()"
      ],
      "execution_count": null,
      "outputs": [
        {
          "output_type": "stream",
          "name": "stdout",
          "text": [
            "Row Col Value\n",
            "0   0   1\n",
            "1   1   2\n",
            "2   2   3\n",
            "0   0   5\n",
            "1   1   3\n"
          ]
        }
      ]
    },
    {
      "cell_type": "code",
      "metadata": {
        "id": "DOWsTrbVKMPu"
      },
      "source": [
        "# Sparse Matrix Operetions\n",
        "# Question -3\n",
        "class Array2D():\n",
        "  def __init__(self,rows,cols):\n",
        "    self.rows = rows\n",
        "    self.cols = cols\n",
        "    self.triplate = []\n",
        "\n",
        "  def numRows(self):\n",
        "    return self.rows\n",
        "  \n",
        "  def numCols(self):\n",
        "    return self.cols\n",
        "\n",
        "  def setitem(self,i1,i2,value):\n",
        "    assert not ((i1+1)>self.rows or (i2+1)>self.cols),\"Invalid index position.\"\n",
        "    assert not (i1<0 or i2<0),\"Index can't be negative.\"\n",
        "    self.triplate.append([i1,i2,value])\n",
        "\n",
        "  def clear(self,value):\n",
        "    for i in range(len(self.triplate)):\n",
        "      self.triplate[i][2] = value\n",
        "\n",
        "  def getitem(self,i1,i2):\n",
        "    assert not ((i1+1)>self.rows or (i2+1)>self.cols),\"Invalid index position.\"\n",
        "    assert not (i1<0 or i2<0),\"Index can't be negative.\"\n",
        "    for i in range(len(self.triplate)):\n",
        "      if ((self.triplate[i][0] == i1) and (self.triplate[i][1]==i2)):\n",
        "        return (self.triplate[i][2])\n",
        "    return 0\n",
        "\n",
        "  def prnSparse(self):\n",
        "    if len(self.triplate)== 0:\n",
        "      return (\" It is a Null(zero) Matrix -all the values of this matrix are zero.\")\n",
        "    else:\n",
        "      print(\"Row\",\"Col\",\"Value\")\n",
        "      for i in range(len(self.triplate)):\n",
        "        print(\"{}   {}   {}\".format(self.triplate[i][0], self.triplate[i][1],self.triplate[i][2]))\n",
        "  \n",
        "  def scaleBy(self,scalar):\n",
        "    for i in range(len(self.triplate)):\n",
        "      self.triplate[i][2] = self.triplate[i][2]*scalar\n",
        "  \n",
        "  def transpose(self):\n",
        "    for i in range(len(self.triplate)):\n",
        "      temp = self.triplate[i][0]\n",
        "      self.triplate[i][0] = self.triplate[i][1]\n",
        "      self.triplate[i][1] = temp\n",
        "\n",
        "  \"\"\"def add(self,rhsMatrix):\n",
        "    new_mat = []\n",
        "    for i in range(len(rhsMatrix)):\n",
        "      if (self.triplate[i][0] == rhsMatrix[i][0]) and (self.triplate[i][1] == rhsMatrix[i][1]):\n",
        "        temp = [self.triplate[i][0],self.triplate[i][1],self.triplate[i][2]+rhsMatrix[i][2]]\n",
        "        new_mat.append(temp)\n",
        "\n",
        "      else:\n",
        "        temp1 = [rhsMatrix[i][0],rhsMatrix[i][1],rhsMatrix[i][2]]\n",
        "        new_mat.append(temp1)\n",
        "    print(\"Addition of Matrix\")\n",
        "    print(\"Row\",\"Col\",\"Value\")\n",
        "    for i in range(len(new_mat)):\n",
        "      print(\"{}   {}   {}\".format(new_mat[i][0], new_mat[i][1],new_mat[i][2]))\"\"\"\n",
        "\n",
        "  def add(self,rhsMatrix):\n",
        "    assert  (self.rows == rhsMatrix.numRows()) and (self.cols == rhsMatrix.numCols()),\"Both Matrix are of different size\"\n",
        "    assert (self.rows == self.cols) and (rhsMatrix.numRows() == rhsMatrix.numCols()), \"Addition of Non-Squre matrix is not difined\"\n",
        "    new_mat = []\n",
        "    result = 0\n",
        "    for i in range(self.rows):\n",
        "      for j in range(self.cols):\n",
        "        result = self.getitem(i,j) + rhsMatrix.getitem(i,j)\n",
        "        if (result!=0):\n",
        "          new_mat.append([i,j,result])\n",
        "        result =0\n",
        "    print(\"Addition of Matrix\")\n",
        "    if len(new_mat)==0:\n",
        "      return (\" It is a Null(zero) Matrix -all the values of this matrix are zero.\")\n",
        "    else:\n",
        "      print(\"Row\",\"Col\",\"Value\")\n",
        "      for i in range(len(new_mat)):\n",
        "        print(\"{}   {}   {}\".format(new_mat[i][0], new_mat[i][1],new_mat[i][2]))\n",
        "\n",
        "\n",
        "  \"\"\"def subtract(self,rhsMatrix):\n",
        "    new_mat = []\n",
        "    for i in range(len(rhsMatrix)):\n",
        "      if (self.triplate[i][0] == rhsMatrix[i][0]) and (self.triplate[i][1] == rhsMatrix[i][1]):\n",
        "        temp = [self.triplate[i][0],self.triplate[i][1],self.triplate[i][2]-rhsMatrix[i][2]]\n",
        "        new_mat.append(temp)\n",
        "\n",
        "      else:\n",
        "        temp1 = [rhsMatrix[i][0],rhsMatrix[i][1],rhsMatrix[i][2]]\n",
        "        new_mat.append(temp1)\n",
        "    print(\"Subtraction of Matrix\")\n",
        "    print(\"Row\",\"Col\",\"Value\")\n",
        "    for i in range(len(new_mat)):\n",
        "      print(\"{}   {}   {}\".format(new_mat[i][0], new_mat[i][1],new_mat[i][2]))\"\"\"\n",
        "\n",
        "  def subtract(self,rhsMatrix):\n",
        "    assert  (self.rows == rhsMatrix.numRows()) and (self.cols == rhsMatrix.numCols()),\"Both Matrix are of different size\"\n",
        "    assert (self.rows == self.cols) and (rhsMatrix.numRows() == rhsMatrix.numCols()), \"Subtraction of Non-Squre matrix is not difined\"\n",
        "    new_mat = []\n",
        "    result = 0\n",
        "    for i in range(self.rows):\n",
        "      for j in range(self.cols):\n",
        "        result = self.getitem(i,j) - rhsMatrix.getitem(i,j)\n",
        "        if (result!=0):\n",
        "          new_mat.append([i,j,result])\n",
        "        result =0\n",
        "    print(\"Subtraction of Matrix\")\n",
        "    if len(new_mat)==0:\n",
        "      return (\" It is a Null(zero) Matrix -all the values of this matrix are zero.\")\n",
        "    else:\n",
        "      print(\"Row\",\"Col\",\"Value\")\n",
        "      for i in range(len(new_mat)):\n",
        "        print(\"{}   {}   {}\".format(new_mat[i][0], new_mat[i][1],new_mat[i][2]))\n",
        "\n",
        "\n",
        "  def multiply(self,b):\n",
        "    multip = []\n",
        "    result = 0\n",
        "    for i in range(self.rows):\n",
        "      for j in range(b.numCols()):\n",
        "        for k in range(b.numRows()):\n",
        "          result += self.getitem(i,k) * b.getitem(k,j)\n",
        "        if (result!=0):\n",
        "          multip.append([i,j,result])\n",
        "        result =0\n",
        "    if len(multip)==0:\n",
        "      return (\" It is a Null(zero) Matrix -all the values of this matrix are zero.\")\n",
        "    else:\n",
        "      print(\"Row\",\"Col\",\"Value\")\n",
        "      for i in range(len(multip)):\n",
        "        print(\"{}   {}   {}\".format(multip[i][0], multip[i][1],multip[i][2]))\n"
      ],
      "execution_count": null,
      "outputs": []
    },
    {
      "cell_type": "code",
      "metadata": {
        "id": "DBa7qKKygbl-"
      },
      "source": [
        "a = Array2D(3,3)\n",
        "b = Array2D(3,3)"
      ],
      "execution_count": null,
      "outputs": []
    },
    {
      "cell_type": "code",
      "metadata": {
        "colab": {
          "base_uri": "https://localhost:8080/",
          "height": 35
        },
        "id": "6LIQNHCcgj77",
        "outputId": "a8f41e86-8798-4d80-da43-5b5817928839"
      },
      "source": [
        "a.prnSparse()"
      ],
      "execution_count": null,
      "outputs": [
        {
          "output_type": "execute_result",
          "data": {
            "application/vnd.google.colaboratory.intrinsic+json": {
              "type": "string"
            },
            "text/plain": [
              "' It is a Null(zero) Matrix -all the values of this matrix are zero.'"
            ]
          },
          "metadata": {},
          "execution_count": 8
        }
      ]
    },
    {
      "cell_type": "code",
      "metadata": {
        "id": "iGTa5kUshc6T"
      },
      "source": [
        "a.setitem(0,0,1)\n",
        "a.setitem(0,1,1)\n",
        "a.setitem(0,2,1)"
      ],
      "execution_count": null,
      "outputs": []
    },
    {
      "cell_type": "code",
      "metadata": {
        "colab": {
          "base_uri": "https://localhost:8080/"
        },
        "id": "mKTIFIjOgyhJ",
        "outputId": "a3656804-bb1f-4282-bc7d-b007e4edcd89"
      },
      "source": [
        "a.prnSparse()"
      ],
      "execution_count": null,
      "outputs": [
        {
          "output_type": "stream",
          "name": "stdout",
          "text": [
            "Row Col Value\n",
            "0   0   1\n",
            "0   1   1\n",
            "0   2   1\n"
          ]
        }
      ]
    },
    {
      "cell_type": "code",
      "metadata": {
        "id": "JE68MxXog4kD"
      },
      "source": [
        "b.setitem(1,0,1)\n",
        "b.setitem(2,1,1)\n",
        "b.setitem(0,2,1)"
      ],
      "execution_count": null,
      "outputs": []
    },
    {
      "cell_type": "code",
      "metadata": {
        "colab": {
          "base_uri": "https://localhost:8080/"
        },
        "id": "8rvn5ggEaqyC",
        "outputId": "3bbb6347-c92d-47d9-b847-15b7d4805472"
      },
      "source": [
        "a.add(b)"
      ],
      "execution_count": null,
      "outputs": [
        {
          "output_type": "stream",
          "name": "stdout",
          "text": [
            "Addition of Matrix\n",
            "Row Col Value\n",
            "0   0   1\n",
            "0   1   1\n",
            "0   2   2\n",
            "1   0   1\n",
            "2   1   1\n"
          ]
        }
      ]
    },
    {
      "cell_type": "code",
      "metadata": {
        "colab": {
          "base_uri": "https://localhost:8080/",
          "height": 52
        },
        "id": "lCyaBIRaclCE",
        "outputId": "c35ff746-1a7f-4212-c790-1c5c9e30247b"
      },
      "source": [
        "a.subtract(b)"
      ],
      "execution_count": null,
      "outputs": [
        {
          "output_type": "stream",
          "name": "stdout",
          "text": [
            "Subtraction of Matrix\n"
          ]
        },
        {
          "output_type": "execute_result",
          "data": {
            "application/vnd.google.colaboratory.intrinsic+json": {
              "type": "string"
            },
            "text/plain": [
              "' It is a Null(zero) Matrix -all the values of this matrix are zero.'"
            ]
          },
          "metadata": {},
          "execution_count": 42
        }
      ]
    },
    {
      "cell_type": "code",
      "metadata": {
        "colab": {
          "base_uri": "https://localhost:8080/"
        },
        "id": "mwTYkWhkh7xD",
        "outputId": "b3ae7e57-99d6-48f1-8d9d-105c1e8f7f6e"
      },
      "source": [
        "a.multiply(b)"
      ],
      "execution_count": null,
      "outputs": [
        {
          "output_type": "stream",
          "name": "stdout",
          "text": [
            "Row Col Value\n",
            "0   0   1\n",
            "0   1   1\n",
            "0   2   1\n"
          ]
        }
      ]
    },
    {
      "cell_type": "code",
      "metadata": {
        "id": "swxxIfHgUmFO"
      },
      "source": [
        "b = Array2D(5,5)"
      ],
      "execution_count": null,
      "outputs": []
    },
    {
      "cell_type": "code",
      "metadata": {
        "colab": {
          "base_uri": "https://localhost:8080/"
        },
        "id": "nEdoQgHA_WC1",
        "outputId": "9a8e66ac-d530-43a1-eb39-8069dd82f817"
      },
      "source": [
        "a = Array2D(5,5)\n",
        "a.setitem(0,1,1)\n",
        "a.setitem(1,2,2)\n",
        "a.setitem(2,3,3)\n",
        "a.prnSparse()"
      ],
      "execution_count": null,
      "outputs": [
        {
          "output_type": "stream",
          "name": "stdout",
          "text": [
            "Row Col Value\n",
            "0   1   1\n",
            "1   2   2\n",
            "2   3   3\n"
          ]
        }
      ]
    },
    {
      "cell_type": "code",
      "metadata": {
        "colab": {
          "base_uri": "https://localhost:8080/"
        },
        "id": "zrB-YynF_xBb",
        "outputId": "645a9c4a-dca5-4e17-c8ac-9daa11b05bec"
      },
      "source": [
        "a.scaleBy(5)\n",
        "a.prnSparse()"
      ],
      "execution_count": null,
      "outputs": [
        {
          "output_type": "stream",
          "name": "stdout",
          "text": [
            "Row Col Value\n",
            "0   1   5\n",
            "1   2   10\n",
            "2   3   15\n"
          ]
        }
      ]
    },
    {
      "cell_type": "code",
      "metadata": {
        "colab": {
          "base_uri": "https://localhost:8080/"
        },
        "id": "fclmsjzc_4ca",
        "outputId": "aab87dc5-0a72-472d-e023-1719e7e8b46f"
      },
      "source": [
        "a.transpose()\n",
        "a.prnSparse()"
      ],
      "execution_count": null,
      "outputs": [
        {
          "output_type": "stream",
          "name": "stdout",
          "text": [
            "Row Col Value\n",
            "1   0   5\n",
            "2   1   10\n",
            "3   2   15\n"
          ]
        }
      ]
    },
    {
      "cell_type": "code",
      "metadata": {
        "colab": {
          "base_uri": "https://localhost:8080/"
        },
        "id": "ENLhoL5MB8Zx",
        "outputId": "09a65b25-6e8b-4ea5-9beb-d8d11541d4b7"
      },
      "source": [
        "# Program to multiply two matrices using nested loops\n",
        "\n",
        "# 3x3 matrix\n",
        "X = [[12,7,3],\n",
        "    [4 ,5,6],\n",
        "    [7 ,8,9]]\n",
        "# 3x4 matrix\n",
        "Y = [[5,8,1,2],\n",
        "    [6,7,3,0],\n",
        "    [4,5,9,1]]\n",
        "# result is 3x4\n",
        "\n",
        "# iterate through rows of X\n",
        "multip = []\n",
        "result = 0\n",
        "for i in range(len(X)):\n",
        "  # iterate through columns of Y\n",
        "  for j in range(len(Y[0])):\n",
        "    # iterate through rows of Y\n",
        "    for k in range(len(Y)):\n",
        "      result += X[i][k] * Y[k][j]\n",
        "    multip.append([i,j,result])\n",
        "    result = 0\n",
        "print(\"Row\",\"Col\",\"Value\")\n",
        "for i in range(len(multip)):\n",
        "  print(\"{}   {}   {}\".format(multip[i][0], multip[i][1],multip[i][2]))\n",
        "\n",
        "   "
      ],
      "execution_count": null,
      "outputs": [
        {
          "output_type": "stream",
          "name": "stdout",
          "text": [
            "Row Col Value\n",
            "0   0   114\n",
            "0   1   160\n",
            "0   2   60\n",
            "0   3   27\n",
            "1   0   74\n",
            "1   1   97\n",
            "1   2   73\n",
            "1   3   14\n",
            "2   0   119\n",
            "2   1   157\n",
            "2   2   112\n",
            "2   3   23\n"
          ]
        }
      ]
    },
    {
      "cell_type": "code",
      "metadata": {
        "id": "a4ED7mZ2m80p"
      },
      "source": [
        "def conSpars(matrix):\n",
        "  spar = []\n",
        "  for i in range(3):\n",
        "    for j in range(3):\n",
        "      print(matrix[i][j])\n",
        "      if matrix[i][j] !=0:\n",
        "        spar.append([i,j,matrix[i][j]])\n",
        "  if len(spar)==0:\n",
        "      return (\" It is a Null(zero) Matrix -all the values of this matrix are zero.\")\n",
        "  else:\n",
        "    #print(spar)\n",
        "    print(\"Row\",\"Col\",\"Value\")\n",
        "    for i in range(len(spar)):\n",
        "      print(\"{}   {}   {}\".format(spar[i][0], spar[i][1],spar[i][2]))\n",
        "  \n",
        "\n"
      ],
      "execution_count": null,
      "outputs": []
    },
    {
      "cell_type": "code",
      "metadata": {
        "colab": {
          "base_uri": "https://localhost:8080/"
        },
        "id": "SiVr0MHAAuWP",
        "outputId": "7b7e4526-b802-4b67-80e0-a8b2c280d41c"
      },
      "source": [
        "matr = [[1,2,3],[4,5,6],[7,8,9]]\n",
        "conSpars(matr)"
      ],
      "execution_count": null,
      "outputs": [
        {
          "output_type": "stream",
          "name": "stdout",
          "text": [
            "1\n",
            "2\n",
            "3\n",
            "4\n",
            "5\n",
            "6\n",
            "7\n",
            "8\n",
            "9\n",
            "Row Col Value\n",
            "0   0   1\n",
            "0   1   2\n",
            "0   2   3\n",
            "1   0   4\n",
            "1   1   5\n",
            "1   2   6\n",
            "2   0   7\n",
            "2   1   8\n",
            "2   2   9\n"
          ]
        }
      ]
    },
    {
      "cell_type": "code",
      "metadata": {
        "id": "R7IZtGknBFWq"
      },
      "source": [
        "\n",
        "\n",
        "\n",
        "\n",
        "\n"
      ],
      "execution_count": null,
      "outputs": []
    }
  ]
}