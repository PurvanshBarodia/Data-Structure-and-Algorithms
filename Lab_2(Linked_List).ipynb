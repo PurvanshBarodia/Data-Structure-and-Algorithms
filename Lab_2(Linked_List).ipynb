{
  "nbformat": 4,
  "nbformat_minor": 0,
  "metadata": {
    "colab": {
      "name": "Lab-2(Linked List).ipynb",
      "provenance": []
    },
    "kernelspec": {
      "name": "python3",
      "display_name": "Python 3"
    },
    "language_info": {
      "name": "python"
    }
  },
  "cells": [
    {
      "cell_type": "code",
      "metadata": {
        "id": "ZISUIgx9LFYq"
      },
      "source": [
        "class LinkNode():\n",
        "  def __init__(self,data):\n",
        "    self.data = data\n",
        "    self.next = None"
      ],
      "execution_count": null,
      "outputs": []
    },
    {
      "cell_type": "code",
      "metadata": {
        "id": "NjItKnmVMGTF"
      },
      "source": [
        "a = LinkNode(1)\n",
        "b = LinkNode(2)\n",
        "c = LinkNode(3)\n",
        "a.next =b\n",
        "b.next=c"
      ],
      "execution_count": null,
      "outputs": []
    },
    {
      "cell_type": "code",
      "metadata": {
        "id": "_cGZuKBlLVzT"
      },
      "source": [
        "# Question-7  insert at the end     (works only when linked list is not empty(it has atleast one element))\n",
        "def linsatend(linked_list,element):\n",
        "  new_node = LinkNode(element)\n",
        "  head = a\n",
        "  while(head.next!=None):\n",
        "    head = head.next\n",
        "  head.next = new_node\n",
        "  head = a\n",
        "  while(head!=None):\n",
        "    print(head.data, end=\"-->\")\n",
        "    head = head.next"
      ],
      "execution_count": null,
      "outputs": []
    },
    {
      "cell_type": "code",
      "metadata": {
        "colab": {
          "base_uri": "https://localhost:8080/"
        },
        "id": "9uzwJnLsP4FG",
        "outputId": "466b7eed-5cf5-4777-b140-fb57106fce18"
      },
      "source": [
        "linsatend(a,4)"
      ],
      "execution_count": null,
      "outputs": [
        {
          "output_type": "stream",
          "name": "stdout",
          "text": [
            "1-->2-->3-->4-->"
          ]
        }
      ]
    },
    {
      "cell_type": "code",
      "metadata": {
        "id": "iEpy9aC2Kzna"
      },
      "source": [
        "# Question-6  Search in linked list\n",
        "def lsrch(linked_list,element):\n",
        "  head = a\n",
        "  position =0\n",
        "  while(head!=None):\n",
        "    position = position+1\n",
        "    if (head.data == element):\n",
        "      return position\n",
        "    head = head.next\n",
        "  return -1\n"
      ],
      "execution_count": null,
      "outputs": []
    },
    {
      "cell_type": "code",
      "metadata": {
        "colab": {
          "base_uri": "https://localhost:8080/"
        },
        "id": "2HimtcUgTwNP",
        "outputId": "a5283188-1080-4b74-fe90-dad72eccf97b"
      },
      "source": [
        "lsrch(a,4)"
      ],
      "execution_count": null,
      "outputs": [
        {
          "output_type": "execute_result",
          "data": {
            "text/plain": [
              "4"
            ]
          },
          "metadata": {},
          "execution_count": 20
        }
      ]
    },
    {
      "cell_type": "code",
      "metadata": {
        "colab": {
          "base_uri": "https://localhost:8080/"
        },
        "id": "jLvDE80qUCct",
        "outputId": "4ba5ee8c-b7ae-4644-dcca-21281c731b4d"
      },
      "source": [
        "lsrch(a,5)"
      ],
      "execution_count": null,
      "outputs": [
        {
          "output_type": "execute_result",
          "data": {
            "text/plain": [
              "-1"
            ]
          },
          "metadata": {},
          "execution_count": 21
        }
      ]
    },
    {
      "cell_type": "code",
      "metadata": {
        "id": "D9IYy1wFUWJo"
      },
      "source": [
        "# Question 8\n",
        "def linsatbeg(linked_list,element):\n",
        "  head = a\n",
        "  new_node = LinkNode(element)\n",
        "  new_node.next = head\n",
        "  head = new_node\n",
        "  while (head!=None):\n",
        "    print(head.data,end=\"-->\")\n",
        "    head = head.next"
      ],
      "execution_count": null,
      "outputs": []
    },
    {
      "cell_type": "code",
      "metadata": {
        "colab": {
          "base_uri": "https://localhost:8080/"
        },
        "id": "dQSlmfqKWRdI",
        "outputId": "298999fc-68e4-4b27-d689-a0981f3f87c9"
      },
      "source": [
        "linsatbeg(a,0)"
      ],
      "execution_count": null,
      "outputs": [
        {
          "output_type": "stream",
          "name": "stdout",
          "text": [
            "0-->1-->2-->3-->4-->"
          ]
        }
      ]
    },
    {
      "cell_type": "code",
      "metadata": {
        "id": "5lirFne5Zf7l"
      },
      "source": [
        "head = a\n",
        "new_node = LinkNode(0)\n",
        "new_node.next = head"
      ],
      "execution_count": null,
      "outputs": []
    },
    {
      "cell_type": "code",
      "metadata": {
        "id": "IrFstsyMWWI2"
      },
      "source": [
        "# Question 8 -2\n",
        "def delatend(linked_list):\n",
        "  head = new_node\n",
        "  while ((head.next.next)!=None):\n",
        "    head = head.next\n",
        "  head.next = None\n",
        "  head = new_node\n",
        "  while (head!=None):\n",
        "    print(head.data,end=\"-->\")\n",
        "    head = head.next\n"
      ],
      "execution_count": null,
      "outputs": []
    },
    {
      "cell_type": "code",
      "metadata": {
        "colab": {
          "base_uri": "https://localhost:8080/"
        },
        "id": "7DDCeJDDYzaf",
        "outputId": "61332e29-bc8e-4098-e5ac-8d3f6773bc92"
      },
      "source": [
        "delatend(new_node)"
      ],
      "execution_count": null,
      "outputs": [
        {
          "output_type": "stream",
          "name": "stdout",
          "text": [
            "0-->1-->2-->3-->"
          ]
        }
      ]
    },
    {
      "cell_type": "code",
      "metadata": {
        "id": "i-5clnp_brV8"
      },
      "source": [
        "# Question 10\n",
        "def replatind(linked_list,position,element):\n",
        "  new_1 = LinkNode(element)\n",
        "  head = new_node\n",
        "  previous = None\n",
        "  i = 1\n",
        "  while (head!=None):\n",
        "    if (i==position):\n",
        "      new_1.next = head.next\n",
        "      previous.next = new_1\n",
        "    previous = head\n",
        "    head = head.next\n",
        "    i = i+1\n",
        "  if (position>i):\n",
        "    return -1\n",
        "  head = new_node\n",
        "  while (head!=None):\n",
        "    print(head.data,end=\"-->\")\n",
        "    head = head.next\n"
      ],
      "execution_count": null,
      "outputs": []
    },
    {
      "cell_type": "code",
      "metadata": {
        "colab": {
          "base_uri": "https://localhost:8080/"
        },
        "id": "wUK6WqfMg73d",
        "outputId": "f1c45a95-d1ed-4229-9352-3be4e4e0dbbc"
      },
      "source": [
        "replatind(new_node,3,6)"
      ],
      "execution_count": null,
      "outputs": [
        {
          "output_type": "stream",
          "name": "stdout",
          "text": [
            "0-->1-->6-->3-->"
          ]
        }
      ]
    },
    {
      "cell_type": "code",
      "metadata": {
        "colab": {
          "base_uri": "https://localhost:8080/"
        },
        "id": "LdxyrcWlhFoA",
        "outputId": "5c07ec56-6ce3-4b18-a912-c4dbd0bf8324"
      },
      "source": [
        "replatind(new_node,6,6)"
      ],
      "execution_count": null,
      "outputs": [
        {
          "output_type": "execute_result",
          "data": {
            "text/plain": [
              "-1"
            ]
          },
          "metadata": {},
          "execution_count": 32
        }
      ]
    },
    {
      "cell_type": "code",
      "metadata": {
        "id": "sYku2lBhkK4C"
      },
      "source": [
        "class DLinkNode():\n",
        "  def __init__(self,data):\n",
        "    self.data = data\n",
        "    self.next = None\n",
        "    self.prev = None"
      ],
      "execution_count": null,
      "outputs": []
    },
    {
      "cell_type": "code",
      "metadata": {
        "id": "AiX5fuOm_e1Z"
      },
      "source": [
        "a = DLinkNode(1)\n",
        "b = DLinkNode(2)\n",
        "c = DLinkNode(3)\n",
        "d = DLinkNode(4)\n",
        "\n",
        "a.next = b\n",
        "b.next = c\n",
        "b.prev = a\n",
        "c.next = d\n",
        "c.prev = b\n",
        "d.prev = c"
      ],
      "execution_count": null,
      "outputs": []
    },
    {
      "cell_type": "code",
      "metadata": {
        "colab": {
          "base_uri": "https://localhost:8080/"
        },
        "id": "EICsrdy-AO5W",
        "outputId": "d096d864-ce4a-4194-a389-a61f0f3631b0"
      },
      "source": [
        "# Print From Forward\n",
        "head = a\n",
        "while (head!=None):\n",
        "  print(head.data,end=\"<-->\")\n",
        "  head = head.next"
      ],
      "execution_count": null,
      "outputs": [
        {
          "output_type": "stream",
          "name": "stdout",
          "text": [
            "1<-->2<-->3<-->4<-->"
          ]
        }
      ]
    },
    {
      "cell_type": "code",
      "metadata": {
        "colab": {
          "base_uri": "https://localhost:8080/"
        },
        "id": "he8DErOMA9Ze",
        "outputId": "9ee8984e-0f2a-4aa4-ead5-5482ade2b17d"
      },
      "source": [
        "# Print in Reverse Order\n",
        "tail = d\n",
        "while (tail!=None):\n",
        "  print(tail.data,end=\"<-->\")\n",
        "  tail = tail.prev"
      ],
      "execution_count": null,
      "outputs": [
        {
          "output_type": "stream",
          "name": "stdout",
          "text": [
            "4<-->3<-->2<-->1<-->"
          ]
        }
      ]
    },
    {
      "cell_type": "code",
      "metadata": {
        "id": "q9V8-5cdA0t2"
      },
      "source": [
        "# Question 11\n",
        "def dubbly_append(dlinked_list,element):\n",
        "  new_node = DLinkNode(element)\n",
        "  head = a\n",
        "  while(head.next!=None):\n",
        "    head = head.next\n",
        "  head.next = new_node\n",
        "  new_node.prev = head\n",
        "  head = a\n",
        "  while (head!=None):\n",
        "    print(head.data,end=\"<-->\")\n",
        "    head = head.next\n"
      ],
      "execution_count": null,
      "outputs": []
    },
    {
      "cell_type": "code",
      "metadata": {
        "colab": {
          "base_uri": "https://localhost:8080/"
        },
        "id": "RMqelT2yFThE",
        "outputId": "d7830852-2991-4f13-bcc6-09c7315891a4"
      },
      "source": [
        "dubbly_append(a,5)"
      ],
      "execution_count": null,
      "outputs": [
        {
          "output_type": "stream",
          "name": "stdout",
          "text": [
            "1<-->2<-->3<-->4<-->5<-->"
          ]
        }
      ]
    },
    {
      "cell_type": "code",
      "metadata": {
        "id": "YbJI5xaFFX1N"
      },
      "source": [
        "# Question 12\n",
        "def dubbly_remove(dlinked_list,element):\n",
        "  head = a\n",
        "  while (head!=None):\n",
        "    if (head.data == element):\n",
        "      head.prev.next = head.next\n",
        "      head.prev = None\n",
        "      head.next = None\n",
        "    head = head.next\n",
        "  head = a\n",
        "  while (head!=None):\n",
        "    print(head.data,end = \"<-->\")\n",
        "    head = head.next\n",
        "\n"
      ],
      "execution_count": null,
      "outputs": []
    },
    {
      "cell_type": "code",
      "metadata": {
        "colab": {
          "base_uri": "https://localhost:8080/"
        },
        "id": "2iRACN5fHkuz",
        "outputId": "497cbbe1-c808-4824-d0b0-d60a803f9b2d"
      },
      "source": [
        "dubbly_remove(a,3)"
      ],
      "execution_count": null,
      "outputs": [
        {
          "output_type": "stream",
          "name": "stdout",
          "text": [
            "1<-->2<-->4<-->5<-->"
          ]
        }
      ]
    },
    {
      "cell_type": "code",
      "metadata": {
        "id": "rF_fswntHrHr"
      },
      "source": [
        ""
      ],
      "execution_count": null,
      "outputs": []
    }
  ]
}