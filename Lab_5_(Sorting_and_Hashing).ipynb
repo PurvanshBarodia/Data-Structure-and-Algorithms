{
  "nbformat": 4,
  "nbformat_minor": 0,
  "metadata": {
    "colab": {
      "name": "Lab-5 (Sorting and Hashing).ipynb",
      "provenance": [],
      "authorship_tag": "ABX9TyOrlpN6n/7ZiK2ZAxiTTdDk",
      "include_colab_link": true
    },
    "kernelspec": {
      "name": "python3",
      "display_name": "Python 3"
    },
    "language_info": {
      "name": "python"
    }
  },
  "cells": [
    {
      "cell_type": "markdown",
      "metadata": {
        "id": "view-in-github",
        "colab_type": "text"
      },
      "source": [
        "<a href=\"https://colab.research.google.com/github/PurvanshBarodia/Data-Structure-and-Algorithms/blob/master/Lab_5_(Sorting_and_Hashing).ipynb\" target=\"_parent\"><img src=\"https://colab.research.google.com/assets/colab-badge.svg\" alt=\"Open In Colab\"/></a>"
      ]
    },
    {
      "cell_type": "code",
      "metadata": {
        "id": "gQDwBCpeedj5"
      },
      "source": [
        "# Question -1\n",
        "# Implement Quicksort algorithm where the pivot is always the middle element.\n",
        "\n",
        "# Pivot is middle element\n",
        "def partitioning(arr,low,high):\n",
        "  pos = (low+high)//2\n",
        "  pivot = arr[pos]\n",
        "  #print(\"Pivot\",pivot)\n",
        "  i = low -1\n",
        "\n",
        "  for j in range(low,high+1): # what diff it will make when high+1 \n",
        "                              # then only it will go through whole list\n",
        "\n",
        "    if(j ==pos):\n",
        "      #j+=1\n",
        "      #print(\"This is incremented j\",j)\n",
        "      continue\n",
        "    if (i+1 == pos):\n",
        "      i+=1\n",
        "      #print(\"This is incremented i\",i)\n",
        "    if(j!=pos and i+1!=pos and arr[j]<=pivot): \n",
        "      i+=1\n",
        "      #print(i,arr[j])\n",
        "      arr[i],arr[j] = arr[j],arr[i]\n",
        "      #print(arr)\n",
        "  if i<pos:\n",
        "    i+=1\n",
        "  arr[pos],arr[i] = arr[i],arr[pos]\n",
        "  #print (arr,i)\n",
        "  return i"
      ],
      "execution_count": null,
      "outputs": []
    },
    {
      "cell_type": "code",
      "metadata": {
        "id": "AJucvePafQ6w"
      },
      "source": [
        "def Quicksort(arr,low,high):\n",
        "  if (low>=high):\n",
        "    return\n",
        "  else:\n",
        "    piv = partitioning(arr,low,high)\n",
        "    Quicksort(arr,low,piv-1)\n",
        "    Quicksort(arr,piv+1,high)\n",
        "  return arr"
      ],
      "execution_count": null,
      "outputs": []
    },
    {
      "cell_type": "code",
      "metadata": {
        "colab": {
          "base_uri": "https://localhost:8080/"
        },
        "id": "w93LPtl2fafD",
        "outputId": "d90ac74c-9139-4c97-d29f-9224ff3a8a8a"
      },
      "source": [
        "Quicksort([1,2,15,7,5,6,9],0,6)"
      ],
      "execution_count": null,
      "outputs": [
        {
          "output_type": "execute_result",
          "data": {
            "text/plain": [
              "[1, 2, 5, 6, 7, 9, 15]"
            ]
          },
          "metadata": {},
          "execution_count": 6
        }
      ]
    },
    {
      "cell_type": "code",
      "metadata": {
        "colab": {
          "base_uri": "https://localhost:8080/"
        },
        "id": "-kXG9bprffCg",
        "outputId": "a065d7f9-d181-4e2b-e0ab-c616198663b5"
      },
      "source": [
        "Quicksort([10,23,51,18,4,31,5],0,6)"
      ],
      "execution_count": null,
      "outputs": [
        {
          "output_type": "execute_result",
          "data": {
            "text/plain": [
              "[4, 5, 10, 18, 23, 31, 51]"
            ]
          },
          "metadata": {},
          "execution_count": 7
        }
      ]
    },
    {
      "cell_type": "code",
      "metadata": {
        "colab": {
          "base_uri": "https://localhost:8080/"
        },
        "id": "o-7qD8XPfjJZ",
        "outputId": "3f8caa9c-9dab-43d7-ca66-cb1ab35905b6"
      },
      "source": [
        "Quicksort([3000,3500,3,15,25,50000,100,18,2,5,35,555],0,11)"
      ],
      "execution_count": null,
      "outputs": [
        {
          "output_type": "execute_result",
          "data": {
            "text/plain": [
              "[2, 3, 5, 15, 18, 25, 35, 100, 555, 3000, 3500, 50000]"
            ]
          },
          "metadata": {},
          "execution_count": 8
        }
      ]
    },
    {
      "cell_type": "code",
      "metadata": {
        "id": "QonFoWZ5fqOR"
      },
      "source": [
        "# Question-2: Implement Quicksort algorithm where the pivot is chosen randomly.\n",
        "\n",
        "import random\n",
        "def partitionSeq(arr,low,high):\n",
        "  i= low-1\n",
        "  p = random.randint(low,high)\n",
        "  #rint(p)\n",
        "  arr[p],arr[high]= arr[high],arr[p]\n",
        "  pivot= arr[high]\n",
        "\n",
        "  for j in range(low,high):\n",
        "    if arr[j]<=pivot:\n",
        "      i+=1\n",
        "      arr[i],arr[j] = arr[j],arr[i]\n",
        "  i+=1\n",
        "  arr[i],arr[high] = arr[high],arr[i]\n",
        "  return i\n",
        "\n",
        "def reqQuickSort(arr,first,last):\n",
        "  if first>=last:\n",
        "    return\n",
        "  else:\n",
        "    pos = partitionSeq(arr,first,last)\n",
        "    reqQuickSort(arr,first,pos-1)\n",
        "    reqQuickSort(arr,pos+1,last)\n",
        "    return arr"
      ],
      "execution_count": null,
      "outputs": []
    },
    {
      "cell_type": "code",
      "metadata": {
        "colab": {
          "base_uri": "https://localhost:8080/"
        },
        "id": "7jt2oz4RgIAk",
        "outputId": "2593d14a-0b23-45f1-9878-d5042425186a"
      },
      "source": [
        "reqQuickSort([10,23,51,18,4,31,5],0,6)"
      ],
      "execution_count": null,
      "outputs": [
        {
          "output_type": "execute_result",
          "data": {
            "text/plain": [
              "[4, 5, 10, 18, 23, 31, 51]"
            ]
          },
          "metadata": {},
          "execution_count": 12
        }
      ]
    },
    {
      "cell_type": "code",
      "metadata": {
        "id": "e25APsAvgLWc"
      },
      "source": [
        "# Q3: Implement Radixsort Algorithm.\n",
        "# Implement queue using linked list\n",
        "class queue():\n",
        "  def __init__(self):\n",
        "    self.head = None\n",
        "    self.tail = None\n",
        "    self.count = 0\n",
        "\n",
        "  def isEmpty(self):\n",
        "    return self.head==None\n",
        "    \n",
        "  def length(self):\n",
        "    return self.count\n",
        "\n",
        "  def enqueue(self,item):\n",
        "    node = Linkedlist(item)\n",
        "    if self.head == None:\n",
        "      self.head = node\n",
        "    else:\n",
        "      self.tail.next = node\n",
        "    self.tail = node\n",
        "    self.count+=1\n",
        "\n",
        "  def dequeue(self):\n",
        "    assert not self.isEmpty()\n",
        "    data = self.head.item\n",
        "    if self.head == self.tail:\n",
        "      self.head = None\n",
        "      self.tail = None\n",
        "    else:\n",
        "      self.head = self.head.next\n",
        "    self.count-=1\n",
        "    return data\n",
        "\n",
        "  def prnqueue(self):\n",
        "    temp = self.head\n",
        "    while(temp!=None):\n",
        "      print(temp.item,end=\" \")\n",
        "      temp = temp.next\n",
        "\n",
        "\n",
        "class Linkedlist():\n",
        "  def __init__(self,item):\n",
        "    self.item = item\n",
        "    self.next = None"
      ],
      "execution_count": null,
      "outputs": []
    },
    {
      "cell_type": "code",
      "metadata": {
        "id": "TCN2z4kvgY0N"
      },
      "source": [
        "def redixsort(arr,digits):\n",
        "  lisqueue = [0] *10\n",
        "  for i in range(10):\n",
        "    lisqueue[i] = queue()\n",
        "  column = 1\n",
        "  for d in range(digits):\n",
        "    for num in arr:\n",
        "      dig = (num//column)%10          # In which bukect you want to put.\n",
        "      lisqueue[dig].enqueue(num)\n",
        "    \n",
        "    i=0\n",
        "    for j in lisqueue:\n",
        "      while not j.isEmpty():\n",
        "        arr[i] = j.dequeue()          # Get element from bucket until it is not empty.\n",
        "        i+=1\n",
        "\n",
        "    column*=10\n",
        "  return arr"
      ],
      "execution_count": null,
      "outputs": []
    },
    {
      "cell_type": "code",
      "metadata": {
        "colab": {
          "base_uri": "https://localhost:8080/"
        },
        "id": "XMnPrHv9gjl1",
        "outputId": "c1515f77-52ec-4dce-9000-0f85ec077b04"
      },
      "source": [
        "redixsort([10,23,51,18,412,318,5,135],3)"
      ],
      "execution_count": null,
      "outputs": [
        {
          "output_type": "execute_result",
          "data": {
            "text/plain": [
              "[5, 10, 18, 23, 51, 135, 318, 412]"
            ]
          },
          "metadata": {},
          "execution_count": 15
        }
      ]
    },
    {
      "cell_type": "markdown",
      "metadata": {
        "id": "PjZ3fs_PgpIo"
      },
      "source": [
        "Q4. (hashing) Create two hashtables (arrays) of size 17 and 37. Add the following numbers to both the hashtables (The numbers are written into the array ):\n",
        "\n",
        "133, 88, 92, 221, 174 Now, check if these numbers are in the hashtables or not.\n",
        "100, 133, 174"
      ]
    },
    {
      "cell_type": "code",
      "metadata": {
        "id": "qGanU316g0nC"
      },
      "source": [
        "# Note --> This implementation don't deal with collision, if it finds same index for new ele it will overwrite the old key.\n",
        "\n",
        "class Hashtable():\n",
        "  def __init__(self,max):\n",
        "    self.max = max\n",
        "    self.arr = [None for i in range(self.max)]  # pre allocat the space\n",
        "  def getHash(self,key):\n",
        "    ind = key%self.max\n",
        "    return ind\n",
        "\n",
        "  def setHash(self,key):\n",
        "    inde = self.getHash(key)\n",
        "    self.arr[inde] = key\n",
        "\n",
        "  def eleinHash(self,ele):\n",
        "    eind = self.getHash(ele)\n",
        "    if (self.arr[eind] == None):\n",
        "      return False\n",
        "    else:\n",
        "      return True"
      ],
      "execution_count": null,
      "outputs": []
    },
    {
      "cell_type": "code",
      "metadata": {
        "id": "HtSB7d5Vg_Vv"
      },
      "source": [
        "# Creat Hash Tabel for 17\n",
        "seveen = Hashtable(17)\n",
        "seveen.setHash(133)\n",
        "seveen.setHash(88)\n",
        "seveen.setHash(92)\n",
        "seveen.setHash(221)\n",
        "seveen.setHash(174)"
      ],
      "execution_count": null,
      "outputs": []
    },
    {
      "cell_type": "code",
      "metadata": {
        "colab": {
          "base_uri": "https://localhost:8080/"
        },
        "id": "9-tfpTl1hybf",
        "outputId": "e4552d6c-4f8e-49fd-87f7-0d824a9db473"
      },
      "source": [
        "seveen.eleinHash(100)"
      ],
      "execution_count": null,
      "outputs": [
        {
          "output_type": "execute_result",
          "data": {
            "text/plain": [
              "False"
            ]
          },
          "metadata": {},
          "execution_count": 18
        }
      ]
    },
    {
      "cell_type": "code",
      "metadata": {
        "colab": {
          "base_uri": "https://localhost:8080/"
        },
        "id": "KkAIXEvfh26p",
        "outputId": "ebef7515-5bf1-4eb0-8b38-9534ae89c78e"
      },
      "source": [
        "seveen.eleinHash(133)"
      ],
      "execution_count": null,
      "outputs": [
        {
          "output_type": "execute_result",
          "data": {
            "text/plain": [
              "True"
            ]
          },
          "metadata": {},
          "execution_count": 19
        }
      ]
    },
    {
      "cell_type": "code",
      "metadata": {
        "colab": {
          "base_uri": "https://localhost:8080/"
        },
        "id": "FcIiE-jdh44m",
        "outputId": "9cbb5f9b-cf74-443e-85f3-4a88e1f0165c"
      },
      "source": [
        "seveen.eleinHash(174)"
      ],
      "execution_count": null,
      "outputs": [
        {
          "output_type": "execute_result",
          "data": {
            "text/plain": [
              "True"
            ]
          },
          "metadata": {},
          "execution_count": 20
        }
      ]
    },
    {
      "cell_type": "code",
      "metadata": {
        "id": "1Y5cN_1ah96f"
      },
      "source": [
        "# Creat Hash Tabel for 37\n",
        "threen = Hashtable(17)\n",
        "threen.setHash(133)\n",
        "threen.setHash(88)\n",
        "threen.setHash(92)\n",
        "threen.setHash(221)\n",
        "threen.setHash(174)"
      ],
      "execution_count": null,
      "outputs": []
    },
    {
      "cell_type": "code",
      "metadata": {
        "colab": {
          "base_uri": "https://localhost:8080/"
        },
        "id": "TohmaVOph_EE",
        "outputId": "554f7225-49e5-4183-ef11-9ae317ae0c31"
      },
      "source": [
        "threen.eleinHash(100)"
      ],
      "execution_count": null,
      "outputs": [
        {
          "output_type": "execute_result",
          "data": {
            "text/plain": [
              "False"
            ]
          },
          "metadata": {},
          "execution_count": 22
        }
      ]
    },
    {
      "cell_type": "code",
      "metadata": {
        "colab": {
          "base_uri": "https://localhost:8080/"
        },
        "id": "YLu9NLV9iCpu",
        "outputId": "df8fa5ca-3db0-4f96-ccef-73cc66bc3979"
      },
      "source": [
        "threen.eleinHash(133)"
      ],
      "execution_count": null,
      "outputs": [
        {
          "output_type": "execute_result",
          "data": {
            "text/plain": [
              "True"
            ]
          },
          "metadata": {},
          "execution_count": 23
        }
      ]
    },
    {
      "cell_type": "code",
      "metadata": {
        "colab": {
          "base_uri": "https://localhost:8080/"
        },
        "id": "ZnOynYMLiGsE",
        "outputId": "de7608cf-fa3a-4b7b-85ad-f555348e1bb3"
      },
      "source": [
        "threen.eleinHash(174)"
      ],
      "execution_count": null,
      "outputs": [
        {
          "output_type": "execute_result",
          "data": {
            "text/plain": [
              "True"
            ]
          },
          "metadata": {},
          "execution_count": 24
        }
      ]
    },
    {
      "cell_type": "markdown",
      "metadata": {
        "id": "OR1g3f40iIW1"
      },
      "source": [
        "Q5. (hashing) Create two hashtables (arrays) of size 17 and 37.\n",
        "This time, each hashtable is an array of bits.\n",
        " \n",
        "There are two arrays of 17 bits and 37 bits, all initialised to 0 (zero).\n",
        " \n",
        "Consider the following number: 142.\n",
        "142%17 = 6\n",
        "142%37 = 31\n",
        "142 is \"added\" to the hashtable by setting to 1 the 6th and the 31st bit of the two hashtables respectively.\n",
        "To check if 142 is in the list, just check if 6th (in the first) and 31st (in the second) are set to 1.\n",
        " \n",
        "Add the following numbers:\n",
        "133, 88, 92, 221, 174\n",
        " \n",
        "Check if these numbers are in the hashtable or not:\n",
        "100, 133, 174"
      ]
    },
    {
      "cell_type": "code",
      "metadata": {
        "id": "J8zWZ3MHiNxG"
      },
      "source": [
        "class bit_Hashtable():\n",
        "  def __init__(self,max):\n",
        "    self.max = max\n",
        "    self.arr = [0 for i in range (self.max)]\n",
        "\n",
        "  def getHash(self,key):\n",
        "    ind = key%self.max\n",
        "    return ind\n",
        "  \n",
        "  def setHash(self,key):\n",
        "    inde = self.getHash(key)\n",
        "    self.arr[inde] =1\n",
        "  \n",
        "  def eleinHash(self,ele):\n",
        "    eind = self.getHash(ele)\n",
        "    if (self.arr[eind] == 0):\n",
        "      return False\n",
        "    else:\n",
        "      return True"
      ],
      "execution_count": null,
      "outputs": []
    },
    {
      "cell_type": "code",
      "metadata": {
        "id": "INRkH6ERiRNV"
      },
      "source": [
        "# Creat bit_Hash Tabel for 17\n",
        "seveen = bit_Hashtable(17)\n",
        "seveen.setHash(133)\n",
        "seveen.setHash(88)\n",
        "seveen.setHash(92)\n",
        "seveen.setHash(221)\n",
        "seveen.setHash(174)"
      ],
      "execution_count": null,
      "outputs": []
    },
    {
      "cell_type": "code",
      "metadata": {
        "colab": {
          "base_uri": "https://localhost:8080/"
        },
        "id": "_7I9xuAziWKY",
        "outputId": "90a66b9a-504b-407c-9d19-064bf3c6d6b0"
      },
      "source": [
        "threen.eleinHash(100)"
      ],
      "execution_count": null,
      "outputs": [
        {
          "output_type": "execute_result",
          "data": {
            "text/plain": [
              "False"
            ]
          },
          "metadata": {},
          "execution_count": 27
        }
      ]
    },
    {
      "cell_type": "code",
      "metadata": {
        "colab": {
          "base_uri": "https://localhost:8080/"
        },
        "id": "R3FRzoABia7L",
        "outputId": "a48be3db-3028-4770-e537-5ff9a55f6ecb"
      },
      "source": [
        "threen.eleinHash(133)"
      ],
      "execution_count": null,
      "outputs": [
        {
          "output_type": "execute_result",
          "data": {
            "text/plain": [
              "True"
            ]
          },
          "metadata": {},
          "execution_count": 28
        }
      ]
    },
    {
      "cell_type": "code",
      "metadata": {
        "colab": {
          "base_uri": "https://localhost:8080/"
        },
        "id": "Mncqzm4CidB9",
        "outputId": "b3d3eea9-7115-4fe7-a8df-06a9a99355bc"
      },
      "source": [
        "threen.eleinHash(174)"
      ],
      "execution_count": null,
      "outputs": [
        {
          "output_type": "execute_result",
          "data": {
            "text/plain": [
              "True"
            ]
          },
          "metadata": {},
          "execution_count": 29
        }
      ]
    },
    {
      "cell_type": "code",
      "metadata": {
        "id": "gWNx3PPRifMh"
      },
      "source": [
        "# Creat bit_Hash Tabel for 37\n",
        "threen = bit_Hashtable(17)\n",
        "threen.setHash(133)\n",
        "threen.setHash(88)\n",
        "threen.setHash(92)\n",
        "threen.setHash(221)\n",
        "threen.setHash(174)"
      ],
      "execution_count": null,
      "outputs": []
    },
    {
      "cell_type": "code",
      "metadata": {
        "colab": {
          "base_uri": "https://localhost:8080/"
        },
        "id": "Oavxu51Xii6V",
        "outputId": "4a0c33e7-de19-4fd2-b543-9920d6d0f549"
      },
      "source": [
        "threen.eleinHash(100)"
      ],
      "execution_count": null,
      "outputs": [
        {
          "output_type": "execute_result",
          "data": {
            "text/plain": [
              "False"
            ]
          },
          "metadata": {},
          "execution_count": 31
        }
      ]
    },
    {
      "cell_type": "code",
      "metadata": {
        "colab": {
          "base_uri": "https://localhost:8080/"
        },
        "id": "D8DX5J0oimZ6",
        "outputId": "734792da-4164-44b0-87ee-75e938310c03"
      },
      "source": [
        "threen.eleinHash(133)"
      ],
      "execution_count": null,
      "outputs": [
        {
          "output_type": "execute_result",
          "data": {
            "text/plain": [
              "True"
            ]
          },
          "metadata": {},
          "execution_count": 32
        }
      ]
    },
    {
      "cell_type": "code",
      "metadata": {
        "colab": {
          "base_uri": "https://localhost:8080/"
        },
        "id": "cJSPu797innU",
        "outputId": "c5ef6081-40dd-4695-b9bd-7a2c0ac6cca4"
      },
      "source": [
        "threen.eleinHash(174)"
      ],
      "execution_count": null,
      "outputs": [
        {
          "output_type": "execute_result",
          "data": {
            "text/plain": [
              "True"
            ]
          },
          "metadata": {},
          "execution_count": 33
        }
      ]
    },
    {
      "cell_type": "code",
      "metadata": {
        "id": "akT_cY9BiuZr"
      },
      "source": [
        ""
      ],
      "execution_count": null,
      "outputs": []
    }
  ]
}